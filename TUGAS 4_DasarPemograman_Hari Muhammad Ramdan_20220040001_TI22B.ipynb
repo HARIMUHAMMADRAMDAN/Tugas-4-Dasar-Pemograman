{
 "cells": [
  {
   "cell_type": "markdown",
   "metadata": {},
   "source": [
    "<h1>Praktikum Variabel & Tipe Data</h1>\n",
    "\n",
    "<h3>Soal 1</h3>\n",
    "Kiki belanja ke alf$$a M$a$r$t membeli 3 hepitos, 2 silperkuin, telor 2kg, beras 5kg, isi ulang akua galon seharga Rp 13.000. Harga hepitos yaitu Rp 15.000, telor Rp 13.000/kg, silperkuin Rp 21.000 beras kemasan 2.5kg seharga Rp 20.000. Toko tersebut memberikan discount 5%, ketika customer membeli makanan lebih dari 3 jenis. Berapakah total bayar belanjaan dari Kiki?\n"
   ]
  },
  {
   "cell_type": "markdown",
   "metadata": {},
   "source": [
    "<h1>Analyze Here</h1>\n",
    "....."
   ]
  },
  {
   "cell_type": "code",
   "execution_count": 7,
   "metadata": {},
   "outputs": [
    {
     "name": "stdout",
     "output_type": "stream",
     "text": [
      "---------------------------------\n",
      "--  List Produk Pembelanjaan  --\n",
      "hepitos 45000\n",
      "silverqueen 42000\n",
      "telor 26000\n",
      "beras 40000\n",
      "galon 13000\n",
      "---------------------------------\n",
      "Total Price: 157700\n",
      "Total Discount 8300\n"
     ]
    }
   ],
   "source": [
    "#Code here\n",
    "#diket: 1 hepitos 15.000, 1 silperkuin 21.000, telor 1 kg 13.000, 2..5kg beras 20.000\n",
    "\n",
    "listTransaction = {\n",
    "    \"hepitos\" : 15000 * 3,\n",
    "    \"silverqueen\" : 21000 * 2,\n",
    "    \"telor\" : 13000 * 2,\n",
    "    \"beras\" : 20000 * 2,\n",
    "    \"galon\" : 13000\n",
    "}\n",
    "\n",
    "totalPrice = 0\n",
    "disc = 0\n",
    "\n",
    "print(\"---------------------------------\")\n",
    "print(\"--  List Produk Pembelanjaan  --\")\n",
    "for v in listTransaction:\n",
    "    totalPrice += listTransaction[v]\n",
    "    print(v, listTransaction[v])\n",
    "print(\"---------------------------------\")\n",
    "\n",
    "if len(listTransaction) >= 3:\n",
    "    disc = int((5 * totalPrice) / 100)\n",
    "    totalPrice -= disc\n",
    "\n",
    "print(\"Total Price:\", int(totalPrice))\n",
    "print(\"Total Discount\", int(disc))\n",
    "\n"
   ]
  },
  {
   "cell_type": "markdown",
   "metadata": {},
   "source": [
    "<h3>Soal 2</h3>\n",
    "Roni menabung pada bulan agustus yaitu setiap tanggal ganjil sejumlah Rp 50.000, setiap tanggal genap sejumlah RP 10.000 dan setiap tanggal kelipatan 5 sejumlah Rp 5.000, Berapakah total tabungan Roni diakhir bulan?"
   ]
  },
  {
   "cell_type": "markdown",
   "metadata": {},
   "source": [
    "<h1>Analyze Here</h1>\n",
    "....."
   ]
  },
  {
   "cell_type": "code",
   "execution_count": 9,
   "metadata": {},
   "outputs": [
    {
     "name": "stdout",
     "output_type": "stream",
     "text": [
      " Jumlah uang yang ditabungkan pada tanggal ganjil : 800000\n",
      " Jumlah uang yang ditabungkan pada tanggal genap : 150000\n",
      " Jumlah uang yang ditabungkan pada tanggal kelipatan 5 : 30000\n",
      " Jumlah Total Uang Tabungan Dibulan Agustus : 980000\n"
     ]
    }
   ],
   "source": [
    "#Code here\n",
    "#diket: ganjil= 50.000 genap= 10.000 kelipatan tanggal 5 = 5.000\n",
    "#Bilangan Ganjil 1 sampai 30= 1, 3, 5, 7, 9, 11, 13, 15, 17, 19, 21, 23, 25, 27, 29, 31.\n",
    "tabungan_ganjil= 16 * 50000\n",
    "#Bilangan Genap 1 sampai 30= 2,4,6,8,10,12,14,16,18,20,22,24,26,28,30.\n",
    "tabungan_genap= 15 * 10000\n",
    "#Bilangan Tanggal kelipatan 5 dari 1 sampai 30= 5,10,15,20,25,30\n",
    "k_tanggal_5= 6 * 5000 \n",
    "total_tabungan= int(tabungan_ganjil + tabungan_genap + k_tanggal_5)\n",
    "\n",
    "print(\" Jumlah uang yang ditabungkan pada tanggal ganjil : \"+ str(tabungan_ganjil))\n",
    "print(\" Jumlah uang yang ditabungkan pada tanggal genap : \"+ str(tabungan_genap))\n",
    "print(\" Jumlah uang yang ditabungkan pada tanggal kelipatan 5 : \"+ str(k_tanggal_5))\n",
    "print(\" Jumlah Total Uang Tabungan Dibulan Agustus : \"+ str(total_tabungan))\n",
    "\n"
   ]
  },
  {
   "cell_type": "markdown",
   "metadata": {},
   "source": [
    "<h3>Soal 3</h3>\n",
    "Saat hari raya, Deni ingin menukarkan uang sejumlah Rp 5.000.000 ke pecahan 20rb, 10rb, 5rb, 2rb. berapa jumlahnya yang didapatkan Deni jika 20rb maksimal 100, 10rb maksimal 50.Jika :\n",
    "<ol>\n",
    "    <li>3(a)Semua pecahan harus ada</li>\n",
    "    <li>3(b)Hanya pecahan 20rb, 10rb dan 5rb</li>\n",
    "    <li>3(c)Hanya pecahan 20rb, 10rb dan 2rb</li>\n",
    "</ol>"
   ]
  },
  {
   "cell_type": "markdown",
   "metadata": {},
   "source": [
    "<h1>Analyze Here</h1>\n",
    "....."
   ]
  },
  {
   "cell_type": "code",
   "execution_count": 155,
   "metadata": {},
   "outputs": [
    {
     "name": "stdout",
     "output_type": "stream",
     "text": [
      "jumlah uang pecahan 20rb dan 10rb : 2500000\n",
      "(a)Semua pecahan harus ada\n",
      "jumlah pecahan 20rb : 100\n",
      "jumlah pecahan 10rb : 50\n",
      "jumlah pecahan 5rb : 250\n",
      "jumlah pecahan 2rb : 625\n",
      "jumlah pecahan uang Rp 5.000.000 pecahan 20rb,10rb,5rb,2rb : 1025\n",
      "(b)Hanya pecahan 20rb, 10rb dan 5rb\n",
      "jumlah pecahan 20rb : 100\n",
      "jumlah pecahan 10rb : 50\n",
      "jumlah pecahan 5rb : 500\n",
      "jumlah pecahan uang Rp 5.000.000 pecahan 20rb,10rb,5rb : 650\n",
      "(c)Hanya pecahan 20rb, 10rb dan 2rb\n",
      "jumlah pecahan 20rb : 100\n",
      "jumlah pecahan 10rb : 50\n",
      "jumlah pecahan 2rb  : 1250\n",
      "jumlah pecahan uang Rp 5.000.000 pecahan 20rb,10rb,2rb : 1400\n"
     ]
    }
   ],
   "source": [
    "#Code here\n",
    "#diket : Uang deni Rp 5.000.000 Pecahan 20rb, 10rb, 5rb, 2rb\n",
    "lembar_20rb= int(20000 * 100)\n",
    "lembar_10rb= int(10000 * 50)\n",
    "jumlah_uangdeni= lembar_20rb + lembar_10rb\n",
    "print(\"jumlah uang pecahan 20rb dan 10rb : \"+ str(jumlah_uangdeni))\n",
    "print(\"(a)Semua pecahan harus ada\")\n",
    "pecahan_20rb= 100\n",
    "pecahan_10rb= 50\n",
    "pecahan_5rb= int(1250000 / 5000)\n",
    "pecahan_2rb= int(1250000 / 2000)\n",
    "jumlah_pecahan_uangdeni= int(pecahan_20rb + pecahan_10rb + pecahan_5rb + pecahan_2rb)\n",
    "print(\"jumlah pecahan 20rb : \"+str(pecahan_20rb))\n",
    "print(\"jumlah pecahan 10rb : \"+str(pecahan_10rb))\n",
    "print(\"jumlah pecahan 5rb : \"+str(pecahan_5rb))\n",
    "print(\"jumlah pecahan 2rb : \"+str(pecahan_2rb))\n",
    "print(\"jumlah pecahan uang Rp 5.000.000 pecahan 20rb,10rb,5rb,2rb : \"+ str(jumlah_pecahan_uangdeni))\n",
    "\n",
    "print(\"(b)Hanya pecahan 20rb, 10rb dan 5rb\")\n",
    "pecahan_20rb= 100\n",
    "pecahan_10rb= 50\n",
    "pecahan_5rb= int(2500000 / 5000)\n",
    "jumlah_pecahan_uangdeni= int(pecahan_20rb + pecahan_10rb + pecahan_5rb)\n",
    "print(\"jumlah pecahan 20rb : \"+str(pecahan_20rb))\n",
    "print(\"jumlah pecahan 10rb : \"+str(pecahan_10rb))\n",
    "print(\"jumlah pecahan 5rb : \"+str(pecahan_5rb))\n",
    "print(\"jumlah pecahan uang Rp 5.000.000 pecahan 20rb,10rb,5rb : \"+ str(jumlah_pecahan_uangdeni))\n",
    "\n",
    "print(\"(c)Hanya pecahan 20rb, 10rb dan 2rb\")\n",
    "pecahan_20rb= 100\n",
    "pecahan_10rb= 50\n",
    "pecahan_2rb= int(2500000 / 2000)\n",
    "jumlah_pecahan_uangdeni= int(pecahan_20rb + pecahan_10rb + pecahan_2rb)\n",
    "print(\"jumlah pecahan 20rb : \"+str(pecahan_20rb))\n",
    "print(\"jumlah pecahan 10rb : \"+str(pecahan_10rb))\n",
    "print(\"jumlah pecahan 2rb  : \"+str(pecahan_2rb))\n",
    "print(\"jumlah pecahan uang Rp 5.000.000 pecahan 20rb,10rb,2rb : \"+ str(jumlah_pecahan_uangdeni))"
   ]
  },
  {
   "cell_type": "markdown",
   "metadata": {},
   "source": [
    "<h3>Soal 4</h3>\n",
    "Berapakah hasil dari (10/23-6+4-(20//3%2)) ?\n",
    "Lakukan analisa perhitungan dari hasil tersebut!\n",
    "Berdasarkan hasil tersebut urutkan operator yang dikerjakan!"
   ]
  },
  {
   "cell_type": "markdown",
   "metadata": {},
   "source": [
    "<h1>Analyze Here</h1>\n",
    "....."
   ]
  },
  {
   "cell_type": "code",
   "execution_count": 82,
   "metadata": {},
   "outputs": [
    {
     "name": "stdout",
     "output_type": "stream",
     "text": [
      "-1.5652173913043477\n",
      "-1.5652173913043477\n"
     ]
    }
   ],
   "source": [
    "#Code here\n",
    "#uraian perhitungan\n",
    "uraian_1= (10/23-6+4)\n",
    "uraian_2= (20//3%2)\n",
    "uraian_total= (uraian_1 - uraian_2)\n",
    "print(uraian_total)\n",
    "print(10/23-6+4-(20//3%2))"
   ]
  },
  {
   "cell_type": "markdown",
   "metadata": {},
   "source": [
    "<h3>Soal 5</h3>\n",
    "Jika terdapat string yaitu \"UFLOPYXTKJACSWRBGQZVDMEHIN\", maka susunlah nama kalian masing-masing dari data tersebut, berdasarkan index dari masing-masing huruf yang ada pada string tersebut!\n"
   ]
  },
  {
   "cell_type": "markdown",
   "metadata": {},
   "source": [
    "<h1>Analyze Here</h1>\n",
    "....."
   ]
  },
  {
   "cell_type": "code",
   "execution_count": 13,
   "metadata": {},
   "outputs": [
    {
     "name": "stdout",
     "output_type": "stream",
     "text": [
      "H A R I\n"
     ]
    }
   ],
   "source": [
    "chars = \"UFLOPYXTKJACSWRBGQZVDMEHIN\"\n",
    "index_H = 0\n",
    "index_A = 0\n",
    "index_R = 0\n",
    "index_I = 0\n",
    "\n",
    "i = 0\n",
    "for char in chars:\n",
    "    if char == \"H\":\n",
    "        index_H = i\n",
    "    if char == \"A\":\n",
    "        index_A = i\n",
    "    if char == \"R\":\n",
    "        index_R = i\n",
    "    if char == \"I\":\n",
    "        index_I = i\n",
    "    i += 1\n",
    "\n",
    "print(chars[index_H],chars[index_A],chars[index_R],chars[index_I])\n"
   ]
  },
  {
   "cell_type": "code",
   "execution_count": null,
   "metadata": {},
   "outputs": [],
   "source": []
  }
 ],
 "metadata": {
  "kernelspec": {
   "display_name": "Python 3 (ipykernel)",
   "language": "python",
   "name": "python3"
  },
  "language_info": {
   "codemirror_mode": {
    "name": "ipython",
    "version": 3
   },
   "file_extension": ".py",
   "mimetype": "text/x-python",
   "name": "python",
   "nbconvert_exporter": "python",
   "pygments_lexer": "ipython3",
   "version": "3.9.12"
  }
 },
 "nbformat": 4,
 "nbformat_minor": 4
}
